{
 "cells": [
  {
   "cell_type": "code",
   "execution_count": 2,
   "metadata": {},
   "outputs": [
    {
     "data": {
      "text/html": [
       "<div>\n",
       "<style scoped>\n",
       "    .dataframe tbody tr th:only-of-type {\n",
       "        vertical-align: middle;\n",
       "    }\n",
       "\n",
       "    .dataframe tbody tr th {\n",
       "        vertical-align: top;\n",
       "    }\n",
       "\n",
       "    .dataframe thead th {\n",
       "        text-align: right;\n",
       "    }\n",
       "</style>\n",
       "<table border=\"1\" class=\"dataframe\">\n",
       "  <thead>\n",
       "    <tr style=\"text-align: right;\">\n",
       "      <th></th>\n",
       "      <th>Company</th>\n",
       "      <th>Program</th>\n",
       "      <th>Demographic</th>\n",
       "      <th>Year in College</th>\n",
       "      <th>Role</th>\n",
       "      <th>Majors</th>\n",
       "      <th>Programming Languages/Software</th>\n",
       "    </tr>\n",
       "  </thead>\n",
       "  <tbody>\n",
       "    <tr>\n",
       "      <th>0</th>\n",
       "      <td>Facebook</td>\n",
       "      <td>Facebook University - Analytics</td>\n",
       "      <td>Minorities (African Americans, Latinos)</td>\n",
       "      <td>2nd</td>\n",
       "      <td>Data Analytics</td>\n",
       "      <td>Statistics, Applied Mathematics, Computer Scie...</td>\n",
       "      <td>SQL, R, Python</td>\n",
       "    </tr>\n",
       "    <tr>\n",
       "      <th>1</th>\n",
       "      <td>Facebook</td>\n",
       "      <td>Facebook University - Engineering</td>\n",
       "      <td>Minorities (African Americans, Latinos)</td>\n",
       "      <td>1st, 2nd</td>\n",
       "      <td>Software Engineering</td>\n",
       "      <td>Statistics, Applied Mathematics, Computer Scie...</td>\n",
       "      <td>C/C++, JavaScript, Java, PHP, Ruby, Python, Lu...</td>\n",
       "    </tr>\n",
       "    <tr>\n",
       "      <th>2</th>\n",
       "      <td>Facebook</td>\n",
       "      <td>Facebook University - Operations</td>\n",
       "      <td>Minorities (African Americans, Latinos)</td>\n",
       "      <td>2nd</td>\n",
       "      <td>Business Management</td>\n",
       "      <td>Economics, Business</td>\n",
       "      <td>SQL, R, Python, Tableau</td>\n",
       "    </tr>\n",
       "    <tr>\n",
       "      <th>3</th>\n",
       "      <td>Facebook</td>\n",
       "      <td>Facebook University - Product Design</td>\n",
       "      <td>Minorities (African Americans, Latinos)</td>\n",
       "      <td>2nd</td>\n",
       "      <td>Product Design</td>\n",
       "      <td>Any</td>\n",
       "      <td>Powerpoint, Keynote, Adobe and Creative Suite</td>\n",
       "    </tr>\n",
       "    <tr>\n",
       "      <th>4</th>\n",
       "      <td>Facebook</td>\n",
       "      <td>Facebook University - Sales and Advertising</td>\n",
       "      <td>Minorities (African Americans, Latinos)</td>\n",
       "      <td>2nd</td>\n",
       "      <td>Sales and Advertising</td>\n",
       "      <td>Sales, Advertising, Communications</td>\n",
       "      <td>NaN</td>\n",
       "    </tr>\n",
       "  </tbody>\n",
       "</table>\n",
       "</div>"
      ],
      "text/plain": [
       "     Company                                      Program  \\\n",
       "0  Facebook               Facebook University - Analytics   \n",
       "1  Facebook             Facebook University - Engineering   \n",
       "2  Facebook              Facebook University - Operations   \n",
       "3  Facebook          Facebook University - Product Design   \n",
       "4  Facebook   Facebook University - Sales and Advertising   \n",
       "\n",
       "                               Demographic Year in College  \\\n",
       "0  Minorities (African Americans, Latinos)             2nd   \n",
       "1  Minorities (African Americans, Latinos)        1st, 2nd   \n",
       "2  Minorities (African Americans, Latinos)             2nd   \n",
       "3  Minorities (African Americans, Latinos)             2nd   \n",
       "4  Minorities (African Americans, Latinos)             2nd   \n",
       "\n",
       "                    Role                                             Majors  \\\n",
       "0         Data Analytics  Statistics, Applied Mathematics, Computer Scie...   \n",
       "1   Software Engineering  Statistics, Applied Mathematics, Computer Scie...   \n",
       "2    Business Management                                Economics, Business   \n",
       "3         Product Design                                                Any   \n",
       "4  Sales and Advertising                 Sales, Advertising, Communications   \n",
       "\n",
       "                      Programming Languages/Software  \n",
       "0                                     SQL, R, Python  \n",
       "1  C/C++, JavaScript, Java, PHP, Ruby, Python, Lu...  \n",
       "2                            SQL, R, Python, Tableau  \n",
       "3      Powerpoint, Keynote, Adobe and Creative Suite  \n",
       "4                                                NaN  "
      ]
     },
     "execution_count": 2,
     "metadata": {},
     "output_type": "execute_result"
    }
   ],
   "source": [
    "from rake_nltk import Rake\n",
    "import pandas as pd\n",
    "import numpy as np\n",
    "from sklearn.metrics.pairwise import cosine_similarity\n",
    "from sklearn.feature_extraction.text import CountVectorizer\n",
    "from sklearn.feature_extraction.text import TfidfVectorizer\n",
    "from sklearn.metrics.pairwise import sigmoid_kernel \n",
    "from sklearn.metrics.pairwise import cosine_similarity\n",
    "\n",
    "program = pd.read_csv(\"Diversity Tech Programs Spreadsheet - Sheet1.csv\")\n",
    "program.head()"
   ]
  },
  {
   "cell_type": "code",
   "execution_count": 3,
   "metadata": {},
   "outputs": [
    {
     "data": {
      "text/plain": [
       "(46, 7)"
      ]
     },
     "execution_count": 3,
     "metadata": {},
     "output_type": "execute_result"
    }
   ],
   "source": [
    "program.shape"
   ]
  },
  {
   "cell_type": "code",
   "execution_count": 4,
   "metadata": {},
   "outputs": [
    {
     "data": {
      "text/plain": [
       "<46x10 sparse matrix of type '<class 'numpy.float64'>'\n",
       "\twith 42 stored elements in Compressed Sparse Row format>"
      ]
     },
     "execution_count": 4,
     "metadata": {},
     "output_type": "execute_result"
    }
   ],
   "source": [
    "tfv = TfidfVectorizer(min_df = 3, max_features = None,\n",
    "                    strip_accents = \"unicode\", analyzer = \"word\", token_pattern = r\"\\w{1,}\",\n",
    "                    ngram_range = (1,3),\n",
    "                    stop_words = \"english\")\n",
    "tfv_matrix1 = tfv.fit_transform(program[\"Program\"])\n",
    "tfv_matrix1"
   ]
  },
  {
   "cell_type": "code",
   "execution_count": 5,
   "metadata": {},
   "outputs": [
    {
     "data": {
      "text/plain": [
       "array([0.80049902, 0.80049902, 0.80049902, 0.80049902, 0.80049902,\n",
       "       0.76159416, 0.76159416, 0.76159416, 0.76159416, 0.76159416,\n",
       "       0.76159416, 0.76159416, 0.76159416, 0.76159416, 0.76159416,\n",
       "       0.76159416, 0.76159416, 0.76159416, 0.76159416, 0.76159416,\n",
       "       0.76159416, 0.76159416, 0.76159416, 0.76159416, 0.76159416,\n",
       "       0.76159416, 0.76159416, 0.76159416, 0.76159416, 0.76159416,\n",
       "       0.76159416, 0.76159416, 0.76159416, 0.76159416, 0.76159416,\n",
       "       0.76159416, 0.76159416, 0.76159416, 0.76159416, 0.76159416,\n",
       "       0.76159416, 0.76159416, 0.76159416, 0.76159416, 0.76159416,\n",
       "       0.76159416])"
      ]
     },
     "execution_count": 5,
     "metadata": {},
     "output_type": "execute_result"
    }
   ],
   "source": [
    "sig = sigmoid_kernel(tfv_matrix1, tfv_matrix1)\n",
    "sig[0]"
   ]
  },
  {
   "cell_type": "code",
   "execution_count": 6,
   "metadata": {},
   "outputs": [
    {
     "data": {
      "text/plain": [
       "Program\n",
       "Facebook University - Analytics                  0\n",
       "Facebook University - Engineering                1\n",
       "Facebook University - Operations                 2\n",
       "Facebook University - Product Design             3\n",
       "Facebook University - Sales and Advertising      4\n",
       "Above and Beyond Computer Science                5\n",
       "Fellows Program                                  6\n",
       "Google STEP                                      7\n",
       "BOLD - Sales, Services and Support               8\n",
       "BOLD - Marketing and Communications              9\n",
       "BOLD - People Operations                        10\n",
       "BOLD - Finance                                  11\n",
       "Twitter Academy                                 12\n",
       "Women Who Code                                  13\n",
       "Processing Foundation                           14\n",
       "Code Liberation                                 15\n",
       "Women in Machine Learning                       16\n",
       "We Can Code IT                                  17\n",
       "Girls Develop It                                18\n",
       "Women's Coding Collective                       19\n",
       "MotherCoders                                    20\n",
       "Girls in Tech                                   21\n",
       "Data Science for All/Empowerment                22\n",
       "Career Contessa                                 23\n",
       "All Star Code                                   24\n",
       "Black Founders                                  25\n",
       "Blacks in Technology                            26\n",
       "/dev/color                                      27\n",
       "Career Level Program                            28\n",
       "Gather                                          29\n",
       "Women in Big Data                               30\n",
       "Out in Tech                                     31\n",
       "Trans Tech Social                               32\n",
       "Hackbright Academy                              33\n",
       "Grace Hopper Program                            34\n",
       "Ada Developers Academy                          35\n",
       "Kenzie Academy - Software Engineer              36\n",
       "Kenzie Academy - UX Engineer                    37\n",
       "Undergrad Possibilities Summit - Engineering    38\n",
       "Computer Science Summer Institute - HBCU        39\n",
       "Inside Look                                     40\n",
       "Applied Machine Learning Intensive              41\n",
       "Apprenticeship Program                          42\n",
       "Case Challenge                                  43\n",
       "Google in Residence                             44\n",
       "Applied CS (EngEDU)                             45\n",
       "dtype: int64"
      ]
     },
     "execution_count": 6,
     "metadata": {},
     "output_type": "execute_result"
    }
   ],
   "source": [
    "indices = pd.Series(program.index, index = program[\"Program\"])\n",
    "indices"
   ]
  },
  {
   "cell_type": "code",
   "execution_count": 7,
   "metadata": {},
   "outputs": [
    {
     "data": {
      "text/plain": [
       "[(0, 0.7615941559557649),\n",
       " (1, 0.7615941559557649),\n",
       " (2, 0.7615941559557649),\n",
       " (3, 0.7615941559557649),\n",
       " (4, 0.7615941559557649),\n",
       " (5, 0.7615941559557649),\n",
       " (6, 0.7615941559557649),\n",
       " (7, 0.7615941559557649),\n",
       " (8, 0.7615941559557649),\n",
       " (9, 0.7615941559557649),\n",
       " (10, 0.7615941559557649),\n",
       " (11, 0.7615941559557649),\n",
       " (12, 0.7615941559557649),\n",
       " (13, 0.7615941559557649),\n",
       " (14, 0.7615941559557649),\n",
       " (15, 0.7615941559557649),\n",
       " (16, 0.7615941559557649),\n",
       " (17, 0.7615941559557649),\n",
       " (18, 0.7615941559557649),\n",
       " (19, 0.7615941559557649),\n",
       " (20, 0.7615941559557649),\n",
       " (21, 0.7615941559557649),\n",
       " (22, 0.7615941559557649),\n",
       " (23, 0.7615941559557649),\n",
       " (24, 0.7615941559557649),\n",
       " (25, 0.7615941559557649),\n",
       " (26, 0.7615941559557649),\n",
       " (27, 0.7615941559557649),\n",
       " (28, 0.7615941559557649),\n",
       " (29, 0.7615941559557649),\n",
       " (30, 0.7615941559557649),\n",
       " (31, 0.7615941559557649),\n",
       " (32, 0.7615941559557649),\n",
       " (33, 0.7615941559557649),\n",
       " (34, 0.7615941559557649),\n",
       " (35, 0.7615941559557649),\n",
       " (36, 0.7615941559557649),\n",
       " (37, 0.7615941559557649),\n",
       " (38, 0.7615941559557649),\n",
       " (39, 0.7615941559557649),\n",
       " (40, 0.7615941559557649),\n",
       " (41, 0.7615941559557649),\n",
       " (42, 0.7615941559557649),\n",
       " (43, 0.7615941559557649),\n",
       " (44, 0.7615941559557649),\n",
       " (45, 0.7615941559557649)]"
      ]
     },
     "execution_count": 7,
     "metadata": {},
     "output_type": "execute_result"
    }
   ],
   "source": [
    "sorted(list(enumerate(sig[indices[\"Google STEP\"]])), key = lambda x: x[1], reverse = True)"
   ]
  },
  {
   "cell_type": "code",
   "execution_count": 8,
   "metadata": {},
   "outputs": [],
   "source": [
    "def program_recommend(program):\n",
    "    index = indices[program]\n",
    "    sig_scores = list(enumerate(sig[index]))\n",
    "    sig_scores = sorted(sig_scores, key = lambda x: x[1], reverse = True)\n",
    "    sig_scores = sig_scores[1:11]\n",
    "    program_indices = [i[0] for i in sig_scores]\n",
    "    return program[\"Program\"].iloc[program_indices]"
   ]
  },
  {
   "cell_type": "code",
   "execution_count": 9,
   "metadata": {},
   "outputs": [
    {
     "ename": "TypeError",
     "evalue": "string indices must be integers",
     "output_type": "error",
     "traceback": [
      "\u001b[1;31m---------------------------------------------------------------------------\u001b[0m",
      "\u001b[1;31mTypeError\u001b[0m                                 Traceback (most recent call last)",
      "\u001b[1;32m<ipython-input-9-2e95915ebed7>\u001b[0m in \u001b[0;36m<module>\u001b[1;34m()\u001b[0m\n\u001b[1;32m----> 1\u001b[1;33m \u001b[0mprogram_recommend\u001b[0m\u001b[1;33m(\u001b[0m\u001b[1;34m\"Google STEP\"\u001b[0m\u001b[1;33m)\u001b[0m\u001b[1;33m\u001b[0m\u001b[1;33m\u001b[0m\u001b[0m\n\u001b[0m",
      "\u001b[1;32m<ipython-input-8-aff3536df167>\u001b[0m in \u001b[0;36mprogram_recommend\u001b[1;34m(program)\u001b[0m\n\u001b[0;32m      5\u001b[0m     \u001b[0msig_scores\u001b[0m \u001b[1;33m=\u001b[0m \u001b[0msig_scores\u001b[0m\u001b[1;33m[\u001b[0m\u001b[1;36m1\u001b[0m\u001b[1;33m:\u001b[0m\u001b[1;36m11\u001b[0m\u001b[1;33m]\u001b[0m\u001b[1;33m\u001b[0m\u001b[1;33m\u001b[0m\u001b[0m\n\u001b[0;32m      6\u001b[0m     \u001b[0mprogram_indices\u001b[0m \u001b[1;33m=\u001b[0m \u001b[1;33m[\u001b[0m\u001b[0mi\u001b[0m\u001b[1;33m[\u001b[0m\u001b[1;36m0\u001b[0m\u001b[1;33m]\u001b[0m \u001b[1;32mfor\u001b[0m \u001b[0mi\u001b[0m \u001b[1;32min\u001b[0m \u001b[0msig_scores\u001b[0m\u001b[1;33m]\u001b[0m\u001b[1;33m\u001b[0m\u001b[1;33m\u001b[0m\u001b[0m\n\u001b[1;32m----> 7\u001b[1;33m     \u001b[1;32mreturn\u001b[0m \u001b[0mprogram\u001b[0m\u001b[1;33m[\u001b[0m\u001b[1;34m\"Program\"\u001b[0m\u001b[1;33m]\u001b[0m\u001b[1;33m.\u001b[0m\u001b[0miloc\u001b[0m\u001b[1;33m[\u001b[0m\u001b[0mprogram_indices\u001b[0m\u001b[1;33m]\u001b[0m\u001b[1;33m\u001b[0m\u001b[1;33m\u001b[0m\u001b[0m\n\u001b[0m",
      "\u001b[1;31mTypeError\u001b[0m: string indices must be integers"
     ]
    }
   ],
   "source": [
    "program_recommend(\"Google STEP\")"
   ]
  }
 ],
 "metadata": {
  "kernelspec": {
   "display_name": "Python 3",
   "language": "python",
   "name": "python3"
  },
  "language_info": {
   "codemirror_mode": {
    "name": "ipython",
    "version": 3
   },
   "file_extension": ".py",
   "mimetype": "text/x-python",
   "name": "python",
   "nbconvert_exporter": "python",
   "pygments_lexer": "ipython3",
   "version": "3.7.3"
  }
 },
 "nbformat": 4,
 "nbformat_minor": 4
}
