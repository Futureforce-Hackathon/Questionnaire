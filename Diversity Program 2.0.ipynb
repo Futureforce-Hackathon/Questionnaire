{
 "cells": [
  {
   "cell_type": "code",
   "execution_count": 1,
   "metadata": {},
   "outputs": [
    {
     "data": {
      "text/html": [
       "<div>\n",
       "<style scoped>\n",
       "    .dataframe tbody tr th:only-of-type {\n",
       "        vertical-align: middle;\n",
       "    }\n",
       "\n",
       "    .dataframe tbody tr th {\n",
       "        vertical-align: top;\n",
       "    }\n",
       "\n",
       "    .dataframe thead th {\n",
       "        text-align: right;\n",
       "    }\n",
       "</style>\n",
       "<table border=\"1\" class=\"dataframe\">\n",
       "  <thead>\n",
       "    <tr style=\"text-align: right;\">\n",
       "      <th></th>\n",
       "      <th>Company</th>\n",
       "      <th>Program</th>\n",
       "      <th>Demographic</th>\n",
       "      <th>Year in College</th>\n",
       "      <th>Role</th>\n",
       "      <th>Majors</th>\n",
       "      <th>Programming Languages/Software</th>\n",
       "    </tr>\n",
       "  </thead>\n",
       "  <tbody>\n",
       "    <tr>\n",
       "      <th>0</th>\n",
       "      <td>Facebook</td>\n",
       "      <td>Facebook University - Analytics</td>\n",
       "      <td>Minorities (African Americans, Latinos)</td>\n",
       "      <td>2nd</td>\n",
       "      <td>Data Analytics</td>\n",
       "      <td>Statistics, Applied Mathematics, Computer Scie...</td>\n",
       "      <td>SQL, R, Python</td>\n",
       "    </tr>\n",
       "    <tr>\n",
       "      <th>1</th>\n",
       "      <td>Facebook</td>\n",
       "      <td>Facebook University - Engineering</td>\n",
       "      <td>Minorities (African Americans, Latinos)</td>\n",
       "      <td>1st, 2nd</td>\n",
       "      <td>Software Engineering</td>\n",
       "      <td>Statistics, Applied Mathematics, Computer Scie...</td>\n",
       "      <td>C/C++, JavaScript, Java, PHP, Ruby, Python, Lu...</td>\n",
       "    </tr>\n",
       "    <tr>\n",
       "      <th>2</th>\n",
       "      <td>Facebook</td>\n",
       "      <td>Facebook University - Operations</td>\n",
       "      <td>Minorities (African Americans, Latinos)</td>\n",
       "      <td>2nd</td>\n",
       "      <td>Business Management</td>\n",
       "      <td>Economics, Business</td>\n",
       "      <td>SQL, R, Python, Tableau</td>\n",
       "    </tr>\n",
       "    <tr>\n",
       "      <th>3</th>\n",
       "      <td>Facebook</td>\n",
       "      <td>Facebook University - Product Design</td>\n",
       "      <td>Minorities (African Americans, Latinos)</td>\n",
       "      <td>2nd</td>\n",
       "      <td>Product Design</td>\n",
       "      <td>Any</td>\n",
       "      <td>Powerpoint, Keynote, Adobe and Creative Suite</td>\n",
       "    </tr>\n",
       "    <tr>\n",
       "      <th>4</th>\n",
       "      <td>Facebook</td>\n",
       "      <td>Facebook University - Sales and Advertising</td>\n",
       "      <td>Minorities (African Americans, Latinos)</td>\n",
       "      <td>2nd</td>\n",
       "      <td>Sales and Advertising</td>\n",
       "      <td>Sales, Advertising, Communications</td>\n",
       "      <td>NaN</td>\n",
       "    </tr>\n",
       "  </tbody>\n",
       "</table>\n",
       "</div>"
      ],
      "text/plain": [
       "     Company                                      Program  \\\n",
       "0  Facebook               Facebook University - Analytics   \n",
       "1  Facebook             Facebook University - Engineering   \n",
       "2  Facebook              Facebook University - Operations   \n",
       "3  Facebook          Facebook University - Product Design   \n",
       "4  Facebook   Facebook University - Sales and Advertising   \n",
       "\n",
       "                               Demographic Year in College  \\\n",
       "0  Minorities (African Americans, Latinos)             2nd   \n",
       "1  Minorities (African Americans, Latinos)        1st, 2nd   \n",
       "2  Minorities (African Americans, Latinos)             2nd   \n",
       "3  Minorities (African Americans, Latinos)             2nd   \n",
       "4  Minorities (African Americans, Latinos)             2nd   \n",
       "\n",
       "                    Role                                             Majors  \\\n",
       "0         Data Analytics  Statistics, Applied Mathematics, Computer Scie...   \n",
       "1   Software Engineering  Statistics, Applied Mathematics, Computer Scie...   \n",
       "2    Business Management                                Economics, Business   \n",
       "3         Product Design                                                Any   \n",
       "4  Sales and Advertising                 Sales, Advertising, Communications   \n",
       "\n",
       "                      Programming Languages/Software  \n",
       "0                                     SQL, R, Python  \n",
       "1  C/C++, JavaScript, Java, PHP, Ruby, Python, Lu...  \n",
       "2                            SQL, R, Python, Tableau  \n",
       "3      Powerpoint, Keynote, Adobe and Creative Suite  \n",
       "4                                                NaN  "
      ]
     },
     "execution_count": 1,
     "metadata": {},
     "output_type": "execute_result"
    }
   ],
   "source": [
    "import pandas as pd\n",
    "import numpy as np\n",
    "from sklearn.feature_extraction.text import CountVectorizer\n",
    "from sklearn.metrics.pairwise import cosine_similarity\n",
    "\n",
    "program = pd.read_csv(\"Diversity Tech Programs Spreadsheet - Sheet1.csv\")\n",
    "program.head()"
   ]
  },
  {
   "cell_type": "code",
   "execution_count": 2,
   "metadata": {},
   "outputs": [],
   "source": [
    "features = [\"Company\", \"Demographic\", \"Year in College\", \"Role\", \"Majors\", \"Programming Languages/Software\"]\n",
    "def combine_features(row):\n",
    "    return row[\"Company\"]+\" \"+row[\"Demographic\"]+\" \"+row[\"Year in College\"]+\" \"+row[\"Role\"]+\" \"+row[\"Majors\"]+\" \"+row[\"Programming Languages/Software\"]\n",
    "for feature in features:\n",
    "    program[feature] = program[feature].fillna('')\n",
    "program[\"combined_features\"] = program.apply(combine_features, axis = 1)"
   ]
  },
  {
   "cell_type": "code",
   "execution_count": 3,
   "metadata": {},
   "outputs": [],
   "source": [
    "cv = CountVectorizer()\n",
    "program_matrix = cv.fit_transform(program[\"combined_features\"])"
   ]
  },
  {
   "cell_type": "code",
   "execution_count": 4,
   "metadata": {},
   "outputs": [],
   "source": [
    "program_sim = cosine_similarity(program_matrix)"
   ]
  },
  {
   "cell_type": "code",
   "execution_count": 5,
   "metadata": {},
   "outputs": [
    {
     "ename": "AttributeError",
     "evalue": "'str' object has no attribute 'program'",
     "output_type": "error",
     "traceback": [
      "\u001b[1;31m---------------------------------------------------------------------------\u001b[0m",
      "\u001b[1;31mAttributeError\u001b[0m                            Traceback (most recent call last)",
      "\u001b[1;32m<ipython-input-5-a1b774d826c9>\u001b[0m in \u001b[0;36m<module>\u001b[1;34m()\u001b[0m\n\u001b[0;32m      4\u001b[0m     \u001b[1;32mreturn\u001b[0m \u001b[0mprogram\u001b[0m\u001b[1;33m[\u001b[0m\u001b[0mprogram\u001b[0m\u001b[1;33m.\u001b[0m\u001b[0mprogram\u001b[0m \u001b[1;33m==\u001b[0m \u001b[0mprogram\u001b[0m\u001b[1;33m]\u001b[0m\u001b[1;33m[\u001b[0m\u001b[1;34m\"index\"\u001b[0m\u001b[1;33m]\u001b[0m\u001b[1;33m.\u001b[0m\u001b[0mvalues\u001b[0m\u001b[1;33m[\u001b[0m\u001b[1;36m0\u001b[0m\u001b[1;33m]\u001b[0m\u001b[1;33m\u001b[0m\u001b[1;33m\u001b[0m\u001b[0m\n\u001b[0;32m      5\u001b[0m \u001b[0mprogram_user_likes\u001b[0m \u001b[1;33m=\u001b[0m \u001b[1;34m\"Google STEP\"\u001b[0m\u001b[1;33m\u001b[0m\u001b[1;33m\u001b[0m\u001b[0m\n\u001b[1;32m----> 6\u001b[1;33m \u001b[0mprogram_index\u001b[0m \u001b[1;33m=\u001b[0m \u001b[0mget_index_from_program\u001b[0m\u001b[1;33m(\u001b[0m\u001b[0mprogram_user_likes\u001b[0m\u001b[1;33m)\u001b[0m\u001b[1;33m\u001b[0m\u001b[1;33m\u001b[0m\u001b[0m\n\u001b[0m\u001b[0;32m      7\u001b[0m \u001b[0msimilar_programs\u001b[0m \u001b[1;33m=\u001b[0m \u001b[0mlist\u001b[0m\u001b[1;33m(\u001b[0m\u001b[0menumerate\u001b[0m\u001b[1;33m(\u001b[0m\u001b[0mprogram_sim\u001b[0m\u001b[1;33m[\u001b[0m\u001b[0mprogram_index\u001b[0m\u001b[1;33m]\u001b[0m\u001b[1;33m)\u001b[0m\u001b[1;33m)\u001b[0m\u001b[1;33m\u001b[0m\u001b[1;33m\u001b[0m\u001b[0m\n\u001b[0;32m      8\u001b[0m \u001b[0msorted_similar_programs\u001b[0m \u001b[1;33m=\u001b[0m \u001b[0msorted\u001b[0m\u001b[1;33m(\u001b[0m\u001b[0msimilar_programs\u001b[0m\u001b[1;33m,\u001b[0m \u001b[0mkey\u001b[0m \u001b[1;33m=\u001b[0m \u001b[1;32mlambda\u001b[0m \u001b[0mx\u001b[0m\u001b[1;33m:\u001b[0m\u001b[0mx\u001b[0m\u001b[1;33m[\u001b[0m\u001b[1;36m1\u001b[0m\u001b[1;33m]\u001b[0m\u001b[1;33m,\u001b[0m \u001b[0mreverse\u001b[0m \u001b[1;33m=\u001b[0m \u001b[1;32mTrue\u001b[0m\u001b[1;33m)\u001b[0m\u001b[1;33m[\u001b[0m\u001b[1;36m1\u001b[0m\u001b[1;33m:\u001b[0m\u001b[1;33m]\u001b[0m\u001b[1;33m\u001b[0m\u001b[1;33m\u001b[0m\u001b[0m\n",
      "\u001b[1;32m<ipython-input-5-a1b774d826c9>\u001b[0m in \u001b[0;36mget_index_from_program\u001b[1;34m(program)\u001b[0m\n\u001b[0;32m      2\u001b[0m     \u001b[1;32mreturn\u001b[0m \u001b[0mprogram\u001b[0m\u001b[1;33m[\u001b[0m\u001b[0mprogram\u001b[0m\u001b[1;33m.\u001b[0m\u001b[0mindex\u001b[0m \u001b[1;33m==\u001b[0m \u001b[0mindex\u001b[0m\u001b[1;33m]\u001b[0m\u001b[1;33m[\u001b[0m\u001b[1;34m\"program\"\u001b[0m\u001b[1;33m]\u001b[0m\u001b[1;33m.\u001b[0m\u001b[0mvalues\u001b[0m\u001b[1;33m[\u001b[0m\u001b[1;36m0\u001b[0m\u001b[1;33m]\u001b[0m\u001b[1;33m\u001b[0m\u001b[1;33m\u001b[0m\u001b[0m\n\u001b[0;32m      3\u001b[0m \u001b[1;32mdef\u001b[0m \u001b[0mget_index_from_program\u001b[0m\u001b[1;33m(\u001b[0m\u001b[0mprogram\u001b[0m\u001b[1;33m)\u001b[0m\u001b[1;33m:\u001b[0m\u001b[1;33m\u001b[0m\u001b[1;33m\u001b[0m\u001b[0m\n\u001b[1;32m----> 4\u001b[1;33m     \u001b[1;32mreturn\u001b[0m \u001b[0mprogram\u001b[0m\u001b[1;33m[\u001b[0m\u001b[0mprogram\u001b[0m\u001b[1;33m.\u001b[0m\u001b[0mprogram\u001b[0m \u001b[1;33m==\u001b[0m \u001b[0mprogram\u001b[0m\u001b[1;33m]\u001b[0m\u001b[1;33m[\u001b[0m\u001b[1;34m\"index\"\u001b[0m\u001b[1;33m]\u001b[0m\u001b[1;33m.\u001b[0m\u001b[0mvalues\u001b[0m\u001b[1;33m[\u001b[0m\u001b[1;36m0\u001b[0m\u001b[1;33m]\u001b[0m\u001b[1;33m\u001b[0m\u001b[1;33m\u001b[0m\u001b[0m\n\u001b[0m\u001b[0;32m      5\u001b[0m \u001b[0mprogram_user_likes\u001b[0m \u001b[1;33m=\u001b[0m \u001b[1;34m\"Google STEP\"\u001b[0m\u001b[1;33m\u001b[0m\u001b[1;33m\u001b[0m\u001b[0m\n\u001b[0;32m      6\u001b[0m \u001b[0mprogram_index\u001b[0m \u001b[1;33m=\u001b[0m \u001b[0mget_index_from_program\u001b[0m\u001b[1;33m(\u001b[0m\u001b[0mprogram_user_likes\u001b[0m\u001b[1;33m)\u001b[0m\u001b[1;33m\u001b[0m\u001b[1;33m\u001b[0m\u001b[0m\n",
      "\u001b[1;31mAttributeError\u001b[0m: 'str' object has no attribute 'program'"
     ]
    }
   ],
   "source": [
    "def get_program_from_index(index):\n",
    "    return program[program.index == index][\"program\"].values[0]\n",
    "def get_index_from_program(program):\n",
    "    return program[program.program == program][\"index\"].values[0]\n",
    "program_user_likes = \"Google STEP\"\n",
    "program_index = get_index_from_program(program_user_likes)\n",
    "similar_programs = list(enumerate(program_sim[program_index]))\n",
    "sorted_similar_programs = sorted(similar_programs, key = lambda x:x[1], reverse = True)[1:]\n",
    "sorted_similar_programs"
   ]
  }
 ],
 "metadata": {
  "kernelspec": {
   "display_name": "Python 3",
   "language": "python",
   "name": "python3"
  },
  "language_info": {
   "codemirror_mode": {
    "name": "ipython",
    "version": 3
   },
   "file_extension": ".py",
   "mimetype": "text/x-python",
   "name": "python",
   "nbconvert_exporter": "python",
   "pygments_lexer": "ipython3",
   "version": "3.7.3"
  }
 },
 "nbformat": 4,
 "nbformat_minor": 4
}
